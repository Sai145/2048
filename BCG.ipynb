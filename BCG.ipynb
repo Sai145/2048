{
  "nbformat": 4,
  "nbformat_minor": 0,
  "metadata": {
    "colab": {
      "name": "BCG.ipynb",
      "provenance": [],
      "collapsed_sections": [],
      "include_colab_link": true
    },
    "kernelspec": {
      "name": "python3",
      "display_name": "Python 3"
    },
    "language_info": {
      "name": "python"
    }
  },
  "cells": [
    {
      "cell_type": "markdown",
      "metadata": {
        "id": "view-in-github",
        "colab_type": "text"
      },
      "source": [
        "<a href=\"https://colab.research.google.com/github/Sai145/2048/blob/master/BCG.ipynb\" target=\"_parent\"><img src=\"https://colab.research.google.com/assets/colab-badge.svg\" alt=\"Open In Colab\"/></a>"
      ]
    },
    {
      "cell_type": "code",
      "metadata": {
        "colab": {
          "base_uri": "https://localhost:8080/"
        },
        "id": "0MOwUpCt47bA",
        "outputId": "eebecf30-4b9f-4e9c-a1ba-96c87173bcde"
      },
      "source": [
        "from google.colab import drive\n",
        "drive.mount('/content/drive')"
      ],
      "execution_count": 2,
      "outputs": [
        {
          "output_type": "stream",
          "text": [
            "Mounted at /content/drive\n"
          ],
          "name": "stdout"
        }
      ]
    },
    {
      "cell_type": "code",
      "metadata": {
        "id": "jyB91buzDadw"
      },
      "source": [
        "# innstall java\n",
        "!apt-get install openjdk-8-jdk-headless -qq > /dev/null\n",
        "\n",
        "# install spark (change the version number if needed)\n",
        "!wget -q https://archive.apache.org/dist/spark/spark-3.0.0/spark-3.0.0-bin-hadoop3.2.tgz\n",
        "\n",
        "# unzip the spark file to the current folder\n",
        "!tar xf spark-3.0.0-bin-hadoop3.2.tgz"
      ],
      "execution_count": 3,
      "outputs": []
    },
    {
      "cell_type": "code",
      "metadata": {
        "id": "imaEh2GDDldO"
      },
      "source": [
        "!pip install -q findspark\n"
      ],
      "execution_count": 4,
      "outputs": []
    },
    {
      "cell_type": "code",
      "metadata": {
        "colab": {
          "base_uri": "https://localhost:8080/"
        },
        "id": "nIoFt_ETDx_N",
        "outputId": "4645fcd5-92ca-4cde-c15a-676fa7429480"
      },
      "source": [
        "!pip install pyspark"
      ],
      "execution_count": 5,
      "outputs": [
        {
          "output_type": "stream",
          "text": [
            "Collecting pyspark\n",
            "\u001b[?25l  Downloading https://files.pythonhosted.org/packages/89/db/e18cfd78e408de957821ec5ca56de1250645b05f8523d169803d8df35a64/pyspark-3.1.2.tar.gz (212.4MB)\n",
            "\u001b[K     |████████████████████████████████| 212.4MB 65kB/s \n",
            "\u001b[?25hCollecting py4j==0.10.9\n",
            "\u001b[?25l  Downloading https://files.pythonhosted.org/packages/9e/b6/6a4fb90cd235dc8e265a6a2067f2a2c99f0d91787f06aca4bcf7c23f3f80/py4j-0.10.9-py2.py3-none-any.whl (198kB)\n",
            "\u001b[K     |████████████████████████████████| 204kB 19.3MB/s \n",
            "\u001b[?25hBuilding wheels for collected packages: pyspark\n",
            "  Building wheel for pyspark (setup.py) ... \u001b[?25l\u001b[?25hdone\n",
            "  Created wheel for pyspark: filename=pyspark-3.1.2-py2.py3-none-any.whl size=212880768 sha256=f337fae6b1b7580c27f61b97fb1d91c5fd20e8d8b9b0534d98e9f50286df2e2e\n",
            "  Stored in directory: /root/.cache/pip/wheels/40/1b/2c/30f43be2627857ab80062bef1527c0128f7b4070b6b2d02139\n",
            "Successfully built pyspark\n",
            "Installing collected packages: py4j, pyspark\n",
            "Successfully installed py4j-0.10.9 pyspark-3.1.2\n"
          ],
          "name": "stdout"
        }
      ]
    },
    {
      "cell_type": "code",
      "metadata": {
        "id": "eFQvOhWGEDA8"
      },
      "source": [
        "import os\n",
        "os.environ[\"JAVA_HOME\"] = \"/usr/lib/jvm/java-8-openjdk-amd64\"\n",
        "os.environ[\"SPARK_HOME\"] = \"/content/spark-3.0.0-bin-hadoop3.2\""
      ],
      "execution_count": 6,
      "outputs": []
    },
    {
      "cell_type": "code",
      "metadata": {
        "id": "f_JWtcBVENWv"
      },
      "source": [
        "import findspark\n",
        "findspark.init()"
      ],
      "execution_count": 7,
      "outputs": []
    },
    {
      "cell_type": "code",
      "metadata": {
        "id": "EUKwFzUNIeq_"
      },
      "source": [
        "from pyspark.sql import *\n",
        "# from pyspark.sql import SparkSession\n",
        "from pyspark.sql.types import *\n",
        "from pyspark.sql.functions import *\n",
        "from datetime import *"
      ],
      "execution_count": 8,
      "outputs": []
    },
    {
      "cell_type": "code",
      "metadata": {
        "id": "anIPzp1iEQv0"
      },
      "source": [
        "from pyspark.sql import SparkSession\n",
        "\n",
        "spark = SparkSession.builder\\\n",
        "        .master(\"local\")\\\n",
        "        .appName(\"BCG\")\\\n",
        "        .config('spark.ui.port', '4050')\\\n",
        "        .getOrCreate()"
      ],
      "execution_count": 9,
      "outputs": []
    },
    {
      "cell_type": "code",
      "metadata": {
        "colab": {
          "base_uri": "https://localhost:8080/",
          "height": 216
        },
        "id": "dodA2S4fEY1T",
        "outputId": "6dd6205d-bb22-4d3e-fd3e-ee88e6fc474c"
      },
      "source": [
        "spark"
      ],
      "execution_count": 10,
      "outputs": [
        {
          "output_type": "execute_result",
          "data": {
            "text/html": [
              "\n",
              "            <div>\n",
              "                <p><b>SparkSession - in-memory</b></p>\n",
              "                \n",
              "        <div>\n",
              "            <p><b>SparkContext</b></p>\n",
              "\n",
              "            <p><a href=\"http://a54b477d42fb:4050\">Spark UI</a></p>\n",
              "\n",
              "            <dl>\n",
              "              <dt>Version</dt>\n",
              "                <dd><code>v3.0.0</code></dd>\n",
              "              <dt>Master</dt>\n",
              "                <dd><code>local</code></dd>\n",
              "              <dt>AppName</dt>\n",
              "                <dd><code>BCG</code></dd>\n",
              "            </dl>\n",
              "        </div>\n",
              "        \n",
              "            </div>\n",
              "        "
            ],
            "text/plain": [
              "<pyspark.sql.session.SparkSession at 0x7f56e6056310>"
            ]
          },
          "metadata": {
            "tags": []
          },
          "execution_count": 10
        }
      ]
    },
    {
      "cell_type": "markdown",
      "metadata": {
        "id": "MJXPORw5vDAm"
      },
      "source": [
        "**Reading Data**"
      ]
    },
    {
      "cell_type": "code",
      "metadata": {
        "id": "d2cEE8j0EcOq"
      },
      "source": [
        "Charges=spark.read.options(header=True, inferSchema=True).csv(\"/content/drive/MyDrive/BCG/Charges_use.csv\")\n",
        "Damages=spark.read.options(header=True, inferSchema=True).csv(\"/content/drive/MyDrive/BCG/Damages_use.csv\")\n",
        "Endorse=spark.read.options(header=True, inferSchema=True).csv(\"/content/drive/MyDrive/BCG/Endorse_use.csv\")\n",
        "PPerson=spark.read.options(header=True, inferSchema=True).csv(\"/content/drive/MyDrive/BCG/Primary_Person_use.csv\")\n",
        "Restrict=spark.read.options(header=True, inferSchema=True).csv(\"/content/drive/MyDrive/BCG/Restrict_use.csv\")\n",
        "Units=spark.read.options(header=True, inferSchema=True).csv(\"/content/drive/MyDrive/BCG/Units_use.csv\")\n"
      ],
      "execution_count": 57,
      "outputs": []
    },
    {
      "cell_type": "markdown",
      "metadata": {
        "id": "_P2YkC0SvALU"
      },
      "source": [
        "**Cleaning Data**"
      ]
    },
    {
      "cell_type": "code",
      "metadata": {
        "id": "6h0MWmO9uPvE"
      },
      "source": [
        "Charges=Charges.dropDuplicates()\n",
        "Damages=Damages.dropDuplicates()\n",
        "Endorse=Endorse.dropDuplicates()\n",
        "PPerson=PPerson.dropDuplicates()\n",
        "Restrict=Restrict.dropDuplicates()\n",
        "Units=Units.dropDuplicates()"
      ],
      "execution_count": 58,
      "outputs": []
    },
    {
      "cell_type": "markdown",
      "metadata": {
        "id": "eAyqAuKobjrf"
      },
      "source": [
        "**Analysis**-**1**"
      ]
    },
    {
      "cell_type": "code",
      "metadata": {
        "id": "2K82BuA9YUNT",
        "colab": {
          "base_uri": "https://localhost:8080/"
        },
        "outputId": "13570bbe-a77f-4e5c-b151-a923f817f664"
      },
      "source": [
        "PPerson1=PPerson.filter((col(\"death_cnt\")>=1) & (lower(\"PRSN_GNDR_ID\")=='male'))\n",
        "Analysis_1=PPerson1.select(\"Crash_ID\").distinct()\n",
        "Analysis_1.count()\n"
      ],
      "execution_count": 59,
      "outputs": [
        {
          "output_type": "execute_result",
          "data": {
            "text/plain": [
              "180"
            ]
          },
          "metadata": {
            "tags": []
          },
          "execution_count": 59
        }
      ]
    },
    {
      "cell_type": "markdown",
      "metadata": {
        "id": "ukCvFyvUAxUR"
      },
      "source": [
        "**Analysis**-**2**"
      ]
    },
    {
      "cell_type": "code",
      "metadata": {
        "id": "xLZeOmUKRKiP",
        "colab": {
          "base_uri": "https://localhost:8080/"
        },
        "outputId": "213b3d11-2a40-42c8-c579-345c48a69902"
      },
      "source": [
        "Charges2=Charges.select(\"CRASH_ID\",\"UNIT_NBR\").distinct()\n",
        "Analysis_2=Units.join(Charges2,(Units.CRASH_ID==Charges2.CRASH_ID) & (Units.UNIT_NBR==Charges2.UNIT_NBR),\"inner\"\n",
        "          ).filter(col(\"VEH_BODY_STYL_ID\").isin(\"MOTORCYCLE\",\"POLICE MOTORCYCLE\"))\n",
        "Analysis_2.count()"
      ],
      "execution_count": 60,
      "outputs": [
        {
          "output_type": "execute_result",
          "data": {
            "text/plain": [
              "401"
            ]
          },
          "metadata": {
            "tags": []
          },
          "execution_count": 60
        }
      ]
    },
    {
      "cell_type": "markdown",
      "metadata": {
        "id": "d6gqF69GMYuS"
      },
      "source": [
        "**Analysis-3**"
      ]
    },
    {
      "cell_type": "code",
      "metadata": {
        "id": "nREU-1sObm2Z",
        "colab": {
          "base_uri": "https://localhost:8080/"
        },
        "outputId": "315db29a-bb0e-4e40-c4b5-3b5fa1b4fdcc"
      },
      "source": [
        "Analysis_3=PPerson.filter(lower(col(\"PRSN_GNDR_ID\"))==\"female\")\n",
        "Analysis_3.groupBy(\"DRVR_LIC_STATE_ID\").count().orderBy(col(\"count\").desc()\n",
        ").select(\"DRVR_LIC_STATE_ID\").show(1)"
      ],
      "execution_count": 61,
      "outputs": [
        {
          "output_type": "stream",
          "text": [
            "+-----------------+\n",
            "|DRVR_LIC_STATE_ID|\n",
            "+-----------------+\n",
            "|            Texas|\n",
            "+-----------------+\n",
            "only showing top 1 row\n",
            "\n"
          ],
          "name": "stdout"
        }
      ]
    },
    {
      "cell_type": "markdown",
      "metadata": {
        "id": "obgXDeh4zwiI"
      },
      "source": [
        "**Analysis-4**"
      ]
    },
    {
      "cell_type": "code",
      "metadata": {
        "id": "BDMnzMEuzvlm",
        "colab": {
          "base_uri": "https://localhost:8080/"
        },
        "outputId": "e797626c-02a8-43d0-fced-796b73da353c"
      },
      "source": [
        "Units4=Units.dropDuplicates([\"CRASH_ID\",\"UNIT_NBR\"])\n",
        "Units4=Units4.withColumn(\"Injury_Death\",col(\"TOT_INJRY_CNT\")+col(\"DEATH_CNT\"))\n",
        "Units4=Units4.groupby(\"VEH_MAKE_ID\").sum(\"Injury_Death\")\n",
        "Analysis_4=Units4.withColumn(\"Filter\",row_number().over(Window.orderBy(col(\"sum(Injury_Death)\").desc())))\n",
        "Analysis_4=Analysis_4.filter((col(\"Filter\")>=5) & (col(\"Filter\")<=15)).orderBy(\"Filter\")\n",
        "Analysis_4.select(\"VEH_MAKE_ID\").show()"
      ],
      "execution_count": 62,
      "outputs": [
        {
          "output_type": "stream",
          "text": [
            "+-----------+\n",
            "|VEH_MAKE_ID|\n",
            "+-----------+\n",
            "|     NISSAN|\n",
            "|      HONDA|\n",
            "|        GMC|\n",
            "|    HYUNDAI|\n",
            "|        KIA|\n",
            "|       JEEP|\n",
            "|   CHRYSLER|\n",
            "|      MAZDA|\n",
            "|         NA|\n",
            "| VOLKSWAGEN|\n",
            "|    PONTIAC|\n",
            "+-----------+\n",
            "\n"
          ],
          "name": "stdout"
        }
      ]
    },
    {
      "cell_type": "markdown",
      "metadata": {
        "id": "wE1QiiDzDXQl"
      },
      "source": [
        "**Analysis-5**"
      ]
    },
    {
      "cell_type": "code",
      "metadata": {
        "id": "YroRCfa3DYBn",
        "colab": {
          "base_uri": "https://localhost:8080/"
        },
        "outputId": "b989149d-eb74-4d58-e887-4cbcc849ee99"
      },
      "source": [
        "\n",
        "Units5=Units.dropDuplicates([\"CRASH_ID\",\"UNIT_NBR\"])\n",
        "Analysis_5=Units5.join(PPerson,(Units5.CRASH_ID==PPerson.CRASH_ID) & (Units5.UNIT_NBR==PPerson.UNIT_NBR),\"inner\"\n",
        "          ).groupBy(\"VEH_BODY_STYL_ID\",\"PRSN_ETHNICITY_ID\").count()\n",
        "Analysis_5=Analysis_5.withColumn(\"Filter\",row_number().over(Window.partitionBy(\"VEH_BODY_STYL_ID\"\n",
        "                        ).orderBy(col(\"count\").desc())))\n",
        "Analysis_5=Analysis_5.filter(col(\"Filter\")==1)\n",
        "Analysis_5.select(\"VEH_BODY_STYL_ID\",\"PRSN_ETHNICITY_ID\").show()"
      ],
      "execution_count": 63,
      "outputs": [
        {
          "output_type": "stream",
          "text": [
            "+--------------------+-----------------+\n",
            "|    VEH_BODY_STYL_ID|PRSN_ETHNICITY_ID|\n",
            "+--------------------+-----------------+\n",
            "|                 BUS|            BLACK|\n",
            "|                  NA|            WHITE|\n",
            "|                 VAN|            WHITE|\n",
            "|              PICKUP|            WHITE|\n",
            "|SPORT UTILITY VEH...|            WHITE|\n",
            "|PASSENGER CAR, 4-...|            WHITE|\n",
            "|          FIRE TRUCK|            WHITE|\n",
            "|               TRUCK|            WHITE|\n",
            "|             UNKNOWN|          UNKNOWN|\n",
            "|           AMBULANCE|            WHITE|\n",
            "|    POLICE CAR/TRUCK|            WHITE|\n",
            "|          MOTORCYCLE|            WHITE|\n",
            "|   YELLOW SCHOOL BUS|            BLACK|\n",
            "|   POLICE MOTORCYCLE|            WHITE|\n",
            "|PASSENGER CAR, 2-...|            WHITE|\n",
            "|       TRUCK TRACTOR|            WHITE|\n",
            "|      FARM EQUIPMENT|            WHITE|\n",
            "|NEV-NEIGHBORHOOD ...|            WHITE|\n",
            "|OTHER  (EXPLAIN I...|            WHITE|\n",
            "|        NOT REPORTED|            WHITE|\n",
            "+--------------------+-----------------+\n",
            "\n"
          ],
          "name": "stdout"
        }
      ]
    },
    {
      "cell_type": "markdown",
      "metadata": {
        "id": "WDhTZXYTLmHY"
      },
      "source": [
        "**Analysis-6**"
      ]
    },
    {
      "cell_type": "code",
      "metadata": {
        "id": "TWkmMxH3LmmF",
        "colab": {
          "base_uri": "https://localhost:8080/"
        },
        "outputId": "a918b046-4159-4d05-ad6c-58c3fd273ef9"
      },
      "source": [
        "Units6=Units.dropDuplicates([\"CRASH_ID\",\"UNIT_NBR\"])\n",
        "Units6=Units6.filter(col(\"VEH_BODY_STYL_ID\").like(\"%CAR%\"))\n",
        "Units6=Units6.filter(( upper(col(\"CONTRIB_FACTR_1_ID\")).like(\"%ALCOHOL%\") ) |\n",
        "                    ( upper(col(\"CONTRIB_FACTR_2_ID\")).like(\"%ALCOHOL%\") ) |\n",
        "                    ( upper(col(\"CONTRIB_FACTR_P1_ID\")).like(\"%ALCOHOL%\") ) )\n",
        "PPerson6=PPerson.filter(col(\"DRVR_ZIP\").isNotNull())\n",
        "Analysis_6=Units6.join(PPerson6,(Units6.CRASH_ID==PPerson6.CRASH_ID) & (Units6.UNIT_NBR==PPerson6.UNIT_NBR),\"inner\"\n",
        "          )\n",
        "Analysis_6.groupBy(\"DRVR_ZIP\").count().orderBy(desc(\"count\"))\n",
        "Analysis_6.select(\"DRVR_ZIP\").show(5)"
      ],
      "execution_count": 64,
      "outputs": [
        {
          "output_type": "stream",
          "text": [
            "+--------+\n",
            "|DRVR_ZIP|\n",
            "+--------+\n",
            "|   75050|\n",
            "|   76135|\n",
            "|   77032|\n",
            "|   75090|\n",
            "|   75088|\n",
            "+--------+\n",
            "only showing top 5 rows\n",
            "\n"
          ],
          "name": "stdout"
        }
      ]
    },
    {
      "cell_type": "markdown",
      "metadata": {
        "id": "PQuopJMzURW7"
      },
      "source": [
        "**Analysis-7**"
      ]
    },
    {
      "cell_type": "code",
      "metadata": {
        "id": "42lo1KCLUR0B",
        "colab": {
          "base_uri": "https://localhost:8080/"
        },
        "outputId": "88982c9a-89b9-4ea7-f945-776d3864c1c8"
      },
      "source": [
        "Units7=Units.dropDuplicates([\"CRASH_ID\",\"UNIT_NBR\"])\n",
        "Units7=Units7.filter(col(\"VEH_BODY_STYL_ID\").like(\"%CAR%\"))\n",
        "Units7=Units7.filter(col(\"FIN_RESP_TYPE_ID\").isin([\"PROOF OF LIABILITY INSURANCE\",\"INSURANCE BINDER\",\"CERTIFICATE OF SELF-INSURANCE\"]))\n",
        "\n",
        "Units7=Units7.filter(( upper(col(\"VEH_DMAG_SCL_1_ID\")).isin([\"DAMAGED 5\",\"DAMAGED 6\",\"DAMAGED 7 HIGHEST\"])) |\n",
        "                    ( upper(col(\"VEH_DMAG_SCL_2_ID\")).isin([\"DAMAGED 5\",\"DAMAGED 6\",\"DAMAGED 7 HIGHEST\"]) ) )\n",
        "\n",
        "Analysis_7=Units7.join(Damages,Units7.CRASH_ID==Damages.CRASH_ID,\"left_anti\")\n",
        "          \n",
        "\n",
        "Analysis_7.select(\"CRASH_ID\").distinct().count()"
      ],
      "execution_count": 65,
      "outputs": [
        {
          "output_type": "execute_result",
          "data": {
            "text/plain": [
              "3862"
            ]
          },
          "metadata": {
            "tags": []
          },
          "execution_count": 65
        }
      ]
    },
    {
      "cell_type": "markdown",
      "metadata": {
        "id": "xcjIKkBnuuAv"
      },
      "source": [
        "**Analysis-8**"
      ]
    },
    {
      "cell_type": "code",
      "metadata": {
        "id": "Ds969ZSFuw9e"
      },
      "source": [
        "#licenced\n",
        "PPerson8_3=PPerson.filter(~col(\"DRVR_LIC_CLS_ID\").isin(\"NA\",\"UNKNOWN\",\"UNLICENSED\"))\n",
        "\n",
        "\n",
        "#speed\n",
        "Charges8_3=Charges.filter(col(\"CHARGE\").like('%SPEED%'))\n",
        "Charges8_3=Charges8_3.dropDuplicates([\"CRASH_ID\",\"UNIT_NBR\"])\n",
        "\n",
        "\n",
        "#top 10 clours\n",
        "Units8_2=Units.dropDuplicates([\"CRASH_ID\",\"UNIT_NBR\"])\n",
        "Units8_2=Units8_2.groupBy(\"VEH_COLOR_ID\").count().filter(~col(\"VEH_COLOR_ID\").isin('NA'))\n",
        "Analysis_8_2=Units8_2.withColumn(\"Filter\",row_number().over(Window.orderBy(col(\"count\").desc())))\n",
        "Analysis_8_2=Analysis_8_2.filter(col(\"Filter\")<=10)\n",
        "\n",
        "#top 25 cities \n",
        "Charges8_1=Charges.dropDuplicates([\"CRASH_ID\",\"UNIT_NBR\"])\n",
        "Analysis_8_1=Charges8_1.join(PPerson,(PPerson.CRASH_ID==Charges8_1.CRASH_ID) & (PPerson.UNIT_NBR==Charges8_1.UNIT_NBR),\"inner\"\n",
        "          )\n",
        "\n",
        "Analysis_8_1=Analysis_8_1.groupBy(\"DRVR_LIC_STATE_ID\").count().filter(~col(\"DRVR_LIC_STATE_ID\").isin('NA',\"Unknown\"))\n",
        "\n",
        "Analysis_8_1=Analysis_8_1.withColumn(\"Filter\",row_number().over(Window.orderBy(col(\"count\").desc())))\n",
        "Analysis_8_1=Analysis_8_1.filter(col(\"Filter\")<=25)\n",
        "top25cities=['TX','MX','LA','NM','CA','FL','OK','AR','AZ','GA','IL','CO','MS','MO','TN','NC','KS','AL','OH','MI','NY','WA','VA','NV']\n"
      ],
      "execution_count": 66,
      "outputs": []
    },
    {
      "cell_type": "code",
      "metadata": {
        "id": "UzXFtcmouzyl"
      },
      "source": [
        "Units8=Units.dropDuplicates([\"CRASH_ID\",\"UNIT_NBR\"])\n",
        "Analysis8=Units8.join(PPerson8_3,(Units8.CRASH_ID==PPerson8_3.CRASH_ID) & (Units8.UNIT_NBR==PPerson8_3.UNIT_NBR),\"inner\"\n",
        "              ).join(Charges8_3,(Units8.CRASH_ID==Charges8_3.CRASH_ID) & (Units8.UNIT_NBR==Charges8_3.UNIT_NBR),\"inner\"\n",
        "             ).join(Analysis_8_2,Analysis_8_2.VEH_COLOR_ID==Units8.VEH_COLOR_ID,\"inner\"\n",
        "             ).filter(col(\"VEH_LIC_STATE_ID\").isin(['TX','MX','LA','NM','CA','FL','OK','AR','AZ','GA','IL','CO','MS','MO',\n",
        "                                                    'TN','NC','KS','AL','OH','MI','NY','WA','VA','NV']))\n"
      ],
      "execution_count": 67,
      "outputs": []
    },
    {
      "cell_type": "code",
      "metadata": {
        "colab": {
          "base_uri": "https://localhost:8080/"
        },
        "id": "TQsWSpnIu04L",
        "outputId": "ccd7b390-72b5-49cb-8a08-882f026b247b"
      },
      "source": [
        "Analysis8=Analysis8.groupBy(\"VEH_MAKE_ID\").count()\n",
        "Analysis8=Analysis8.withColumn(\"Filter\",row_number().over(Window.orderBy(col(\"count\").desc())))\n",
        "Analysis8=Analysis8.filter(col(\"Filter\")<=5).select(\"VEH_MAKE_ID\")\n",
        "Analysis8.show()"
      ],
      "execution_count": 68,
      "outputs": [
        {
          "output_type": "stream",
          "text": [
            "+-----------+\n",
            "|VEH_MAKE_ID|\n",
            "+-----------+\n",
            "|       FORD|\n",
            "|  CHEVROLET|\n",
            "|     TOYOTA|\n",
            "|      DODGE|\n",
            "|      HONDA|\n",
            "+-----------+\n",
            "\n"
          ],
          "name": "stdout"
        }
      ]
    }
  ]
}