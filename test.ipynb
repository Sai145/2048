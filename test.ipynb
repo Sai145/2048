{
  "nbformat": 4,
  "nbformat_minor": 0,
  "metadata": {
    "colab": {
      "name": "test.ipynb",
      "provenance": [],
      "collapsed_sections": [],
      "authorship_tag": "ABX9TyN/fBS3YLTWWGLNhO9SxmMS",
      "include_colab_link": true
    },
    "kernelspec": {
      "name": "python3",
      "display_name": "Python 3"
    },
    "language_info": {
      "name": "python"
    }
  },
  "cells": [
    {
      "cell_type": "markdown",
      "metadata": {
        "id": "view-in-github",
        "colab_type": "text"
      },
      "source": [
        "<a href=\"https://colab.research.google.com/github/Sai145/2048/blob/master/test.ipynb\" target=\"_parent\"><img src=\"https://colab.research.google.com/assets/colab-badge.svg\" alt=\"Open In Colab\"/></a>"
      ]
    },
    {
      "cell_type": "code",
      "metadata": {
        "id": "Hi637UXYaxA3",
        "colab": {
          "base_uri": "https://localhost:8080/"
        },
        "outputId": "5ddd7988-1d80-4e59-fdb3-f248b5ff321c"
      },
      "source": [
        "from google.colab import drive\n",
        "drive.mount('/content/drive')"
      ],
      "execution_count": 1,
      "outputs": [
        {
          "output_type": "stream",
          "text": [
            "Mounted at /content/drive\n"
          ],
          "name": "stdout"
        }
      ]
    },
    {
      "cell_type": "code",
      "metadata": {
        "id": "K7L9FCmoa73M"
      },
      "source": [
        "# innstall java\n",
        "!apt-get install openjdk-8-jdk-headless -qq > /dev/null\n",
        "\n",
        "# install spark (change the version number if needed)\n",
        "!wget -q https://archive.apache.org/dist/spark/spark-3.0.0/spark-3.0.0-bin-hadoop3.2.tgz\n",
        "\n",
        "# unzip the spark file to the current folder\n",
        "!tar xf spark-3.0.0-bin-hadoop3.2.tgz"
      ],
      "execution_count": 2,
      "outputs": []
    },
    {
      "cell_type": "code",
      "metadata": {
        "id": "vgn1h_HDa-O-"
      },
      "source": [
        "!pip install -q findspark\n"
      ],
      "execution_count": 3,
      "outputs": []
    },
    {
      "cell_type": "code",
      "metadata": {
        "id": "9I_kEAWXbCts",
        "colab": {
          "base_uri": "https://localhost:8080/"
        },
        "outputId": "2d61e934-199e-4428-bc29-65379e70a5b9"
      },
      "source": [
        "!pip install pyspark"
      ],
      "execution_count": 4,
      "outputs": [
        {
          "output_type": "stream",
          "text": [
            "Collecting pyspark\n",
            "  Downloading pyspark-3.1.2.tar.gz (212.4 MB)\n",
            "\u001b[K     |████████████████████████████████| 212.4 MB 67 kB/s \n",
            "\u001b[?25hCollecting py4j==0.10.9\n",
            "  Downloading py4j-0.10.9-py2.py3-none-any.whl (198 kB)\n",
            "\u001b[K     |████████████████████████████████| 198 kB 47.0 MB/s \n",
            "\u001b[?25hBuilding wheels for collected packages: pyspark\n",
            "  Building wheel for pyspark (setup.py) ... \u001b[?25l\u001b[?25hdone\n",
            "  Created wheel for pyspark: filename=pyspark-3.1.2-py2.py3-none-any.whl size=212880768 sha256=439812ccc6f4243599c09268816c3fedc46c3106666803e68cd24e58cebe3a31\n",
            "  Stored in directory: /root/.cache/pip/wheels/a5/0a/c1/9561f6fecb759579a7d863dcd846daaa95f598744e71b02c77\n",
            "Successfully built pyspark\n",
            "Installing collected packages: py4j, pyspark\n",
            "Successfully installed py4j-0.10.9 pyspark-3.1.2\n"
          ],
          "name": "stdout"
        }
      ]
    },
    {
      "cell_type": "code",
      "metadata": {
        "id": "KKXhFT_FbK4j"
      },
      "source": [
        "import os\n",
        "os.environ[\"JAVA_HOME\"] = \"/usr/lib/jvm/java-8-openjdk-amd64\"\n",
        "os.environ[\"SPARK_HOME\"] = \"/content/spark-3.0.0-bin-hadoop3.2\""
      ],
      "execution_count": 5,
      "outputs": []
    },
    {
      "cell_type": "code",
      "metadata": {
        "id": "dCuEFQqcbOmQ"
      },
      "source": [
        "import findspark\n",
        "findspark.init()"
      ],
      "execution_count": 6,
      "outputs": []
    },
    {
      "cell_type": "code",
      "metadata": {
        "id": "CZp8H5SnbTIe"
      },
      "source": [
        "from pyspark.sql import SparkSession\n",
        "\n",
        "spark = SparkSession.builder\\\n",
        "        .master(\"local\")\\\n",
        "        .appName(\"test\")\\\n",
        "        .config('spark.ui.port', '4050')\\\n",
        "        .getOrCreate()"
      ],
      "execution_count": 7,
      "outputs": []
    },
    {
      "cell_type": "code",
      "metadata": {
        "id": "cuNPYpjqbOis",
        "colab": {
          "base_uri": "https://localhost:8080/",
          "height": 216
        },
        "outputId": "3ba48d53-8400-439c-9e15-3136beccca93"
      },
      "source": [
        "spark"
      ],
      "execution_count": 8,
      "outputs": [
        {
          "output_type": "execute_result",
          "data": {
            "text/html": [
              "\n",
              "            <div>\n",
              "                <p><b>SparkSession - in-memory</b></p>\n",
              "                \n",
              "        <div>\n",
              "            <p><b>SparkContext</b></p>\n",
              "\n",
              "            <p><a href=\"http://085b167e19f9:4050\">Spark UI</a></p>\n",
              "\n",
              "            <dl>\n",
              "              <dt>Version</dt>\n",
              "                <dd><code>v3.0.0</code></dd>\n",
              "              <dt>Master</dt>\n",
              "                <dd><code>local</code></dd>\n",
              "              <dt>AppName</dt>\n",
              "                <dd><code>test</code></dd>\n",
              "            </dl>\n",
              "        </div>\n",
              "        \n",
              "            </div>\n",
              "        "
            ],
            "text/plain": [
              "<pyspark.sql.session.SparkSession at 0x7fe1d0886d10>"
            ]
          },
          "metadata": {
            "tags": []
          },
          "execution_count": 8
        }
      ]
    },
    {
      "cell_type": "code",
      "metadata": {
        "id": "YxM4OC7683V1"
      },
      "source": [
        "from pyspark.sql import *\n",
        "from datetime import *\n",
        "from pyspark.sql.types import *\n",
        "from pyspark.sql.functions import *"
      ],
      "execution_count": 20,
      "outputs": []
    },
    {
      "cell_type": "code",
      "metadata": {
        "id": "CRQeF25-BOSv"
      },
      "source": [
        "campaigns=spark.read.option(\"multiline\",\"true\").json(\"/content/drive/MyDrive/Data/data1.json\")\n",
        "Users=spark.read.option(\"multiline\",\"true\").json(\"/content/drive/MyDrive/Data/data2.json\")\n",
        "Stores=spark.read.option(\"multiline\",\"true\").json(\"/content/drive/MyDrive/Data/data3.json\")\n",
        "\n",
        "campaigns=campaigns.withColumn(\"date\",to_date(col(\"event_time\"))).withColumn(\"hour\",hour(col(\"event_time\"))\n",
        ").withColumn(\"value\",lit(col(\"os_type\"))).withColumn(\"type\",lit(\"os_type\"))\n",
        "\n",
        "Users=Users.withColumnRenamed(\"gender\",\"value\").withColumn(\"type\",lit(\"gender\"))\n",
        "\n",
        "Stores=Stores.withColumn(\"Place_id\",explode(col(\"place_ids\")))\n",
        "Stores=Stores.withColumnRenamed(\"store_name\",\"value\").withColumn(\"type\",lit(\"storename\"))"
      ],
      "execution_count": 59,
      "outputs": []
    },
    {
      "cell_type": "code",
      "metadata": {
        "colab": {
          "base_uri": "https://localhost:8080/"
        },
        "id": "0pAt6Tjz5htx",
        "outputId": "4eeb4a8e-4ab5-46bf-c7eb-8b1808870539"
      },
      "source": [
        "\n",
        "\n",
        "res1=campaigns.groupBy(\"campaign_id\",\"date\",\"hour\",\"type\",\"value\",\"event_type\").count()\n",
        "res1.show()\n",
        "\n"
      ],
      "execution_count": 60,
      "outputs": [
        {
          "output_type": "stream",
          "text": [
            "+-----------+----------+----+-------+-------+----------+-----+\n",
            "|campaign_id|      date|hour|   type|  value|event_type|count|\n",
            "+-----------+----------+----+-------+-------+----------+-----+\n",
            "|    ABCDFAE|2018-10-12|  13|os_type|android|     click|    1|\n",
            "|    ABCDFAE|2018-10-12|  13|os_type|android|impression|    1|\n",
            "|    ABCDFAE|2018-10-12|  13|os_type|    ios|impression|    1|\n",
            "|    ABCDFAE|2018-10-12|  13|os_type|android|  video ad|    1|\n",
            "+-----------+----------+----+-------+-------+----------+-----+\n",
            "\n"
          ],
          "name": "stdout"
        }
      ]
    },
    {
      "cell_type": "code",
      "metadata": {
        "colab": {
          "base_uri": "https://localhost:8080/"
        },
        "id": "i_d7Kvs--t8_",
        "outputId": "bf4e37f2-9210-481c-9171-2d6b97d668ac"
      },
      "source": [
        "res2=campaigns.join(Stores,campaigns.place_id==Stores.Place_id,\"inner\")\n",
        "df2=res2.groupBy(\"campaign_id\",\"date\",\"hour\",Stores.type,Stores.value,\"event_type\").count()\n",
        "df2.show()\n",
        "\n"
      ],
      "execution_count": 61,
      "outputs": [
        {
          "output_type": "stream",
          "text": [
            "+-----------+----------+----+---------+-------------+----------+-----+\n",
            "|campaign_id|      date|hour|     type|        value|event_type|count|\n",
            "+-----------+----------+----+---------+-------------+----------+-----+\n",
            "|    ABCDFAE|2018-10-12|  13|storename|     McDonald|impression|    2|\n",
            "|    ABCDFAE|2018-10-12|  13|storename|   BurgerKing|     click|    1|\n",
            "|    ABCDFAE|2018-10-12|  13|storename|     McDonald|     click|    1|\n",
            "|    ABCDFAE|2018-10-12|  13|storename|   BurgerKing|impression|    1|\n",
            "|    ABCDFAE|2018-10-12|  13|storename|shoppers stop|  video ad|    1|\n",
            "+-----------+----------+----+---------+-------------+----------+-----+\n",
            "\n"
          ],
          "name": "stdout"
        }
      ]
    },
    {
      "cell_type": "code",
      "metadata": {
        "colab": {
          "base_uri": "https://localhost:8080/"
        },
        "id": "1iamabPb6aPD",
        "outputId": "69c487ab-72d8-4480-dbf8-b6551c123682"
      },
      "source": [
        "res3=campaigns.join(Users,campaigns.user_id==Users.user_id,\"inner\")\n",
        "df3=res3.groupBy(\"campaign_id\",\"date\",\"hour\",Users.type,Users.value,\"event_type\").count()\n",
        "df3.show()"
      ],
      "execution_count": 62,
      "outputs": [
        {
          "output_type": "stream",
          "text": [
            "+-----------+----------+----+------+------+----------+-----+\n",
            "|campaign_id|      date|hour|  type| value|event_type|count|\n",
            "+-----------+----------+----+------+------+----------+-----+\n",
            "|    ABCDFAE|2018-10-12|  13|gender|  male|     click|    1|\n",
            "|    ABCDFAE|2018-10-12|  13|gender|female|impression|    1|\n",
            "|    ABCDFAE|2018-10-12|  13|gender|  male|  video ad|    1|\n",
            "|    ABCDFAE|2018-10-12|  13|gender|  male|impression|    1|\n",
            "+-----------+----------+----+------+------+----------+-----+\n",
            "\n"
          ],
          "name": "stdout"
        }
      ]
    }
  ]
}